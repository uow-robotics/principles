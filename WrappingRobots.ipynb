{
  "nbformat": 4,
  "nbformat_minor": 0,
  "metadata": {
    "colab": {
      "name": "WrappingRobots.ipynb",
      "provenance": [],
      "collapsed_sections": [
        "z-_ViToDceep",
        "PqgfcAd9gDNC"
      ]
    },
    "kernelspec": {
      "name": "python3",
      "display_name": "Python 3"
    },
    "language_info": {
      "name": "python"
    }
  },
  "cells": [
    {
      "cell_type": "markdown",
      "metadata": {
        "id": "z-_ViToDceep"
      },
      "source": [
        "## First, please install pyserial\n",
        "pip install pyserial\n",
        "\n",
        "### Now we can `import` the package"
      ]
    },
    {
      "cell_type": "code",
      "metadata": {
        "id": "Ix9iegixdwKG"
      },
      "source": [
        "import serial"
      ],
      "execution_count": null,
      "outputs": []
    },
    {
      "cell_type": "markdown",
      "metadata": {
        "id": "PqgfcAd9gDNC"
      },
      "source": [
        "## Here we create a mock robot to test any API calls\n",
        "\n",
        "When we don't have a real robot to connect to, we'll use this dummy which will return some semi-meaningful responses."
      ]
    },
    {
      "cell_type": "code",
      "metadata": {
        "id": "uTbrmMzmcc-m"
      },
      "source": [
        "SUPPORTED_CALLS = [\n",
        "                   \"LEDWrite\",\n",
        "                   \"LEDOn\",\n",
        "                   \"LEDOff\",\n",
        "                   \"LCDClear\",\n",
        "                   \"LCDPrint\",\n",
        "                   \"LCDPixel\",\n",
        "                   \"LCDLine\",\n",
        "                   \"LCDRect\",\n",
        "                   \"LCDBacklight\",\n",
        "                   \"LCDOptions\",\n",
        "                   \"ServoEnable\",\n",
        "                   \"ServoDisable\",\n",
        "                   \"ServoSetPos\",\n",
        "                   \"ServoAutoMove\",\n",
        "                   \"ServoMoveSpeed\",\n",
        "                   \"ReadAxis\",\n",
        "                   \"ReadMic\",\n",
        "                   \"ReadLight\",\n",
        "                   \"ReadLine\",\n",
        "                   \"ReadIR\",\n",
        "                   \"ReadSwitch\",\n",
        "                   \"PlayNote\",\n",
        "                   \"GetBattery\",\n",
        "                   \"SetMotors\",\n",
        "                   \"Forwards\",\n",
        "                   \"Backwards\",\n",
        "                   \"Right\",\n",
        "                   \"Left\",\n",
        "\n",
        "\n",
        "                ]\n",
        "\n",
        "class TestSerial():\n",
        "    @staticmethod\n",
        "    def write(msg):\n",
        "        try:\n",
        "            msg = [x.decode() for x in msg.split()]\n",
        "        except AttributeError:\n",
        "            print(\"ERROR\")\n",
        "            print(\"Messages to robot API must be encoded with .encode()\")\n",
        "            return\n",
        "        if msg[0] not in SUPPORTED_CALLS:\n",
        "            print(\"ERROR\")\n",
        "            print(f\"{msg[0]} is not a valid call to this robot API\")\n",
        "            return\n",
        "        print(f\"Succesfully sent '{msg[0]}' to API with parameters: {msg[1:]}\")"
      ],
      "execution_count": null,
      "outputs": []
    },
    {
      "cell_type": "markdown",
      "metadata": {
        "id": "5iHonYOWsbml"
      },
      "source": [
        "## Define a function that connects to our virtual serial port\n",
        "\n",
        "We'll also create a function that we can use to disconnect from our robot when we are finished.\n",
        "\n",
        "For when we don't have a real robot to connect to, we'll let users enter `connect(99)` to connect to a mock robot so they can issue all the same API calls and get a message back in response."
      ]
    },
    {
      "cell_type": "code",
      "metadata": {
        "id": "pBDNXR8UscXc"
      },
      "source": [
        "def connect(com_port):\n",
        "    global ser\n",
        "    if com_port == 99:\n",
        "        ser = TestSerial()\n",
        "        return\n",
        "    ser = serial.Serial(\n",
        "        port=f'\\\\\\\\.\\\\COM{com_port}',\n",
        "        baudrate=115200,\n",
        "    )\n",
        "\n",
        "def close_connect():\n",
        "    ser.close()\n"
      ],
      "execution_count": null,
      "outputs": []
    },
    {
      "cell_type": "markdown",
      "metadata": {
        "id": "esEENbUvgW_7"
      },
      "source": [
        "## Connect to our robot with the new function\n",
        "\n",
        "Make sure you've connected to the robot via Bluetooth, and that you have checked the **outgoing** COM Port in your *Other Bluetooth Settings*. Then use `connect(COM_PORT_NUMBER)` to connect to your robot.\n",
        "\n",
        "**Use `connect(99)` if you don't have a robot to connect with.**"
      ]
    },
    {
      "cell_type": "code",
      "metadata": {
        "id": "j08HOK6edn5-"
      },
      "source": [
        "connect(99)"
      ],
      "execution_count": null,
      "outputs": []
    },
    {
      "cell_type": "markdown",
      "metadata": {
        "id": "iu9hXWKageLq"
      },
      "source": [
        "## Make sure it works\n",
        "\n",
        "Let's try a small move forwards."
      ]
    },
    {
      "cell_type": "code",
      "metadata": {
        "id": "rIRbYzvudts5"
      },
      "source": [
        "ser.write(\"Forwards 50\\n\".encode())"
      ],
      "execution_count": null,
      "outputs": []
    },
    {
      "cell_type": "markdown",
      "metadata": {
        "id": "D-uBi8SRh9cl"
      },
      "source": [
        "## Build your own wrapper function for any API call"
      ]
    },
    {
      "cell_type": "code",
      "metadata": {
        "id": "Dh1KyOvOiCUA"
      },
      "source": [
        "def led_write(value):\n",
        "    ser.write(f\"LEDWrite {value}\\n\".encode())\n",
        "\n",
        "def forwards(distance):\n",
        "    ser.write(f\"Forwards {distance}\\n\".encode())\n",
        "\n",
        "def change_lights(lights_number):\n",
        "    ser.write(f\"LEDWrite {lights_number}\\n\".encode())\n"
      ],
      "execution_count": null,
      "outputs": []
    },
    {
      "cell_type": "markdown",
      "metadata": {
        "id": "8rYGe22-iSco"
      },
      "source": [
        "## Test your function!\n"
      ]
    },
    {
      "cell_type": "code",
      "metadata": {
        "id": "p6Gwxd7qiUNd",
        "colab": {
          "base_uri": "https://localhost:8080/"
        },
        "outputId": "b3066338-63c7-44c1-a6ba-e6f044412401"
      },
      "source": [
        "forwards(50)"
      ],
      "execution_count": null,
      "outputs": [
        {
          "output_type": "stream",
          "name": "stdout",
          "text": [
            "Succesfully sent 'Forwards' to API with parameters: ['150']\n"
          ]
        }
      ]
    },
    {
      "cell_type": "markdown",
      "metadata": {
        "id": "bJAPino6uz9R"
      },
      "source": [
        "## Remember to close the connection when you are done\n",
        "\n",
        "We can run `close_connect()`"
      ]
    },
    {
      "cell_type": "code",
      "metadata": {
        "id": "ANFo02uQu6f4"
      },
      "source": [
        "close_connect()"
      ],
      "execution_count": null,
      "outputs": []
    }
  ]
}